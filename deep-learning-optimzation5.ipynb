{
 "cells": [
  {
   "cell_type": "markdown",
   "metadata": {},
   "source": [
    "# Model Optimization 5"
   ]
  },
  {
   "cell_type": "markdown",
   "metadata": {},
   "source": [
    "I have \n",
    "* 4 layers\n",
    "* more neurons\n",
    "* back to 100 epochs"
   ]
  },
  {
   "cell_type": "markdown",
   "metadata": {},
   "source": [
    "## Preprocessing"
   ]
  },
  {
   "cell_type": "code",
   "execution_count": 1,
   "metadata": {},
   "outputs": [],
   "source": [
    "# Import our dependencies\n",
    "from sklearn.model_selection import train_test_split\n",
    "from sklearn.preprocessing import StandardScaler\n",
    "import pandas as pd\n",
    "import tensorflow as tf"
   ]
  },
  {
   "cell_type": "code",
   "execution_count": 2,
   "metadata": {},
   "outputs": [
    {
     "data": {
      "text/html": [
       "<div>\n",
       "<style scoped>\n",
       "    .dataframe tbody tr th:only-of-type {\n",
       "        vertical-align: middle;\n",
       "    }\n",
       "\n",
       "    .dataframe tbody tr th {\n",
       "        vertical-align: top;\n",
       "    }\n",
       "\n",
       "    .dataframe thead th {\n",
       "        text-align: right;\n",
       "    }\n",
       "</style>\n",
       "<table border=\"1\" class=\"dataframe\">\n",
       "  <thead>\n",
       "    <tr style=\"text-align: right;\">\n",
       "      <th></th>\n",
       "      <th>EIN</th>\n",
       "      <th>NAME</th>\n",
       "      <th>APPLICATION_TYPE</th>\n",
       "      <th>AFFILIATION</th>\n",
       "      <th>CLASSIFICATION</th>\n",
       "      <th>USE_CASE</th>\n",
       "      <th>ORGANIZATION</th>\n",
       "      <th>STATUS</th>\n",
       "      <th>INCOME_AMT</th>\n",
       "      <th>SPECIAL_CONSIDERATIONS</th>\n",
       "      <th>ASK_AMT</th>\n",
       "      <th>IS_SUCCESSFUL</th>\n",
       "    </tr>\n",
       "  </thead>\n",
       "  <tbody>\n",
       "    <tr>\n",
       "      <th>0</th>\n",
       "      <td>10520599</td>\n",
       "      <td>BLUE KNIGHTS MOTORCYCLE CLUB</td>\n",
       "      <td>T10</td>\n",
       "      <td>Independent</td>\n",
       "      <td>C1000</td>\n",
       "      <td>ProductDev</td>\n",
       "      <td>Association</td>\n",
       "      <td>1</td>\n",
       "      <td>0</td>\n",
       "      <td>N</td>\n",
       "      <td>5000</td>\n",
       "      <td>1</td>\n",
       "    </tr>\n",
       "  </tbody>\n",
       "</table>\n",
       "</div>"
      ],
      "text/plain": [
       "        EIN                          NAME APPLICATION_TYPE  AFFILIATION  \\\n",
       "0  10520599  BLUE KNIGHTS MOTORCYCLE CLUB              T10  Independent   \n",
       "\n",
       "  CLASSIFICATION    USE_CASE ORGANIZATION  STATUS INCOME_AMT  \\\n",
       "0          C1000  ProductDev  Association       1          0   \n",
       "\n",
       "  SPECIAL_CONSIDERATIONS  ASK_AMT  IS_SUCCESSFUL  \n",
       "0                      N     5000              1  "
      ]
     },
     "execution_count": 2,
     "metadata": {},
     "output_type": "execute_result"
    }
   ],
   "source": [
    "#  Import and read the charity_data.csv.\n",
    "application_df = pd.read_csv(\"Resources/charity_data.csv\")\n",
    "application_df.head(1)"
   ]
  },
  {
   "cell_type": "code",
   "execution_count": 3,
   "metadata": {},
   "outputs": [
    {
     "data": {
      "text/plain": [
       "EIN                       0\n",
       "NAME                      0\n",
       "APPLICATION_TYPE          0\n",
       "AFFILIATION               0\n",
       "CLASSIFICATION            0\n",
       "USE_CASE                  0\n",
       "ORGANIZATION              0\n",
       "STATUS                    0\n",
       "INCOME_AMT                0\n",
       "SPECIAL_CONSIDERATIONS    0\n",
       "ASK_AMT                   0\n",
       "IS_SUCCESSFUL             0\n",
       "dtype: int64"
      ]
     },
     "execution_count": 3,
     "metadata": {},
     "output_type": "execute_result"
    }
   ],
   "source": [
    "#looking for nulls\n",
    "application_df.isnull().sum()"
   ]
  },
  {
   "cell_type": "code",
   "execution_count": 4,
   "metadata": {},
   "outputs": [
    {
     "data": {
      "text/plain": [
       "EIN                       34299\n",
       "NAME                      19568\n",
       "APPLICATION_TYPE             17\n",
       "AFFILIATION                   6\n",
       "CLASSIFICATION               71\n",
       "USE_CASE                      5\n",
       "ORGANIZATION                  4\n",
       "STATUS                        2\n",
       "INCOME_AMT                    9\n",
       "SPECIAL_CONSIDERATIONS        2\n",
       "ASK_AMT                    8747\n",
       "IS_SUCCESSFUL                 2\n",
       "dtype: int64"
      ]
     },
     "execution_count": 4,
     "metadata": {},
     "output_type": "execute_result"
    }
   ],
   "source": [
    "# Determine the number of unique values in each column.\n",
    "application_df.nunique()"
   ]
  },
  {
   "cell_type": "code",
   "execution_count": 5,
   "metadata": {},
   "outputs": [
    {
     "data": {
      "text/html": [
       "<div>\n",
       "<style scoped>\n",
       "    .dataframe tbody tr th:only-of-type {\n",
       "        vertical-align: middle;\n",
       "    }\n",
       "\n",
       "    .dataframe tbody tr th {\n",
       "        vertical-align: top;\n",
       "    }\n",
       "\n",
       "    .dataframe thead th {\n",
       "        text-align: right;\n",
       "    }\n",
       "</style>\n",
       "<table border=\"1\" class=\"dataframe\">\n",
       "  <thead>\n",
       "    <tr style=\"text-align: right;\">\n",
       "      <th></th>\n",
       "      <th>APPLICATION_TYPE</th>\n",
       "      <th>AFFILIATION</th>\n",
       "      <th>CLASSIFICATION</th>\n",
       "      <th>USE_CASE</th>\n",
       "      <th>ORGANIZATION</th>\n",
       "      <th>STATUS</th>\n",
       "      <th>INCOME_AMT</th>\n",
       "      <th>SPECIAL_CONSIDERATIONS</th>\n",
       "      <th>ASK_AMT</th>\n",
       "      <th>IS_SUCCESSFUL</th>\n",
       "    </tr>\n",
       "  </thead>\n",
       "  <tbody>\n",
       "    <tr>\n",
       "      <th>0</th>\n",
       "      <td>T10</td>\n",
       "      <td>Independent</td>\n",
       "      <td>C1000</td>\n",
       "      <td>ProductDev</td>\n",
       "      <td>Association</td>\n",
       "      <td>1</td>\n",
       "      <td>0</td>\n",
       "      <td>N</td>\n",
       "      <td>5000</td>\n",
       "      <td>1</td>\n",
       "    </tr>\n",
       "    <tr>\n",
       "      <th>1</th>\n",
       "      <td>T3</td>\n",
       "      <td>Independent</td>\n",
       "      <td>C2000</td>\n",
       "      <td>Preservation</td>\n",
       "      <td>Co-operative</td>\n",
       "      <td>1</td>\n",
       "      <td>1-9999</td>\n",
       "      <td>N</td>\n",
       "      <td>108590</td>\n",
       "      <td>1</td>\n",
       "    </tr>\n",
       "    <tr>\n",
       "      <th>2</th>\n",
       "      <td>T5</td>\n",
       "      <td>CompanySponsored</td>\n",
       "      <td>C3000</td>\n",
       "      <td>ProductDev</td>\n",
       "      <td>Association</td>\n",
       "      <td>1</td>\n",
       "      <td>0</td>\n",
       "      <td>N</td>\n",
       "      <td>5000</td>\n",
       "      <td>0</td>\n",
       "    </tr>\n",
       "    <tr>\n",
       "      <th>3</th>\n",
       "      <td>T3</td>\n",
       "      <td>CompanySponsored</td>\n",
       "      <td>C2000</td>\n",
       "      <td>Preservation</td>\n",
       "      <td>Trust</td>\n",
       "      <td>1</td>\n",
       "      <td>10000-24999</td>\n",
       "      <td>N</td>\n",
       "      <td>6692</td>\n",
       "      <td>1</td>\n",
       "    </tr>\n",
       "    <tr>\n",
       "      <th>4</th>\n",
       "      <td>T3</td>\n",
       "      <td>Independent</td>\n",
       "      <td>C1000</td>\n",
       "      <td>Heathcare</td>\n",
       "      <td>Trust</td>\n",
       "      <td>1</td>\n",
       "      <td>100000-499999</td>\n",
       "      <td>N</td>\n",
       "      <td>142590</td>\n",
       "      <td>1</td>\n",
       "    </tr>\n",
       "  </tbody>\n",
       "</table>\n",
       "</div>"
      ],
      "text/plain": [
       "  APPLICATION_TYPE       AFFILIATION CLASSIFICATION      USE_CASE  \\\n",
       "0              T10       Independent          C1000    ProductDev   \n",
       "1               T3       Independent          C2000  Preservation   \n",
       "2               T5  CompanySponsored          C3000    ProductDev   \n",
       "3               T3  CompanySponsored          C2000  Preservation   \n",
       "4               T3       Independent          C1000     Heathcare   \n",
       "\n",
       "   ORGANIZATION  STATUS     INCOME_AMT SPECIAL_CONSIDERATIONS  ASK_AMT  \\\n",
       "0   Association       1              0                      N     5000   \n",
       "1  Co-operative       1         1-9999                      N   108590   \n",
       "2   Association       1              0                      N     5000   \n",
       "3         Trust       1    10000-24999                      N     6692   \n",
       "4         Trust       1  100000-499999                      N   142590   \n",
       "\n",
       "   IS_SUCCESSFUL  \n",
       "0              1  \n",
       "1              1  \n",
       "2              0  \n",
       "3              1  \n",
       "4              1  "
      ]
     },
     "execution_count": 5,
     "metadata": {},
     "output_type": "execute_result"
    }
   ],
   "source": [
    "# Drop the non-beneficial ID columns, 'EIN' and 'NAME'.\n",
    "## I drop ' ASK_AMT ' as well, too many different values\n",
    "\n",
    "application_df.drop(columns=[\"EIN\",\"NAME\"], inplace=True)\n",
    "application_df.head()"
   ]
  },
  {
   "cell_type": "code",
   "execution_count": 6,
   "metadata": {},
   "outputs": [
    {
     "data": {
      "text/plain": [
       "T3     27037\n",
       "T4      1542\n",
       "T6      1216\n",
       "T5      1173\n",
       "T19     1065\n",
       "T8       737\n",
       "T7       725\n",
       "T10      528\n",
       "T9       156\n",
       "T13       66\n",
       "T12       27\n",
       "T2        16\n",
       "T25        3\n",
       "T14        3\n",
       "T29        2\n",
       "T15        2\n",
       "T17        1\n",
       "Name: APPLICATION_TYPE, dtype: int64"
      ]
     },
     "execution_count": 6,
     "metadata": {},
     "output_type": "execute_result"
    }
   ],
   "source": [
    "# Look at APPLICATION_TYPE value counts for binning\n",
    "app_type_count = application_df[\"APPLICATION_TYPE\"].value_counts()\n",
    "app_type_count"
   ]
  },
  {
   "cell_type": "code",
   "execution_count": 7,
   "metadata": {},
   "outputs": [
    {
     "data": {
      "text/plain": [
       "['T9', 'T13', 'T12', 'T2', 'T25', 'T14', 'T29', 'T15', 'T17']"
      ]
     },
     "execution_count": 7,
     "metadata": {},
     "output_type": "execute_result"
    }
   ],
   "source": [
    "# Choose a cutoff value and create a list of application types to be replaced\n",
    "# use the variable name `application_types_to_replace`\n",
    "application_types_to_replace = list(app_type_count.loc[app_type_count<500].index)\n",
    "application_types_to_replace"
   ]
  },
  {
   "cell_type": "code",
   "execution_count": 8,
   "metadata": {},
   "outputs": [
    {
     "data": {
      "text/plain": [
       "T3       27037\n",
       "T4        1542\n",
       "T6        1216\n",
       "T5        1173\n",
       "T19       1065\n",
       "T8         737\n",
       "T7         725\n",
       "T10        528\n",
       "Other      276\n",
       "Name: APPLICATION_TYPE, dtype: int64"
      ]
     },
     "execution_count": 8,
     "metadata": {},
     "output_type": "execute_result"
    }
   ],
   "source": [
    "# Replace in dataframe\n",
    "for app in application_types_to_replace:\n",
    "    application_df['APPLICATION_TYPE'] = application_df['APPLICATION_TYPE'].replace(app,\"Other\")\n",
    "\n",
    "# Check to make sure binning was successful\n",
    "application_df['APPLICATION_TYPE'].value_counts()"
   ]
  },
  {
   "cell_type": "code",
   "execution_count": 9,
   "metadata": {},
   "outputs": [],
   "source": [
    "# Look at CLASSIFICATION value counts for binning\n",
    "classif_count = application_df[\"CLASSIFICATION\"].value_counts()"
   ]
  },
  {
   "cell_type": "code",
   "execution_count": 10,
   "metadata": {},
   "outputs": [
    {
     "data": {
      "text/plain": [
       "45"
      ]
     },
     "execution_count": 10,
     "metadata": {},
     "output_type": "execute_result"
    }
   ],
   "source": [
    "# You may find it helpful to look at CLASSIFICATION value counts >1\n",
    "(classif_count > 1).sum()"
   ]
  },
  {
   "cell_type": "code",
   "execution_count": 11,
   "metadata": {},
   "outputs": [],
   "source": [
    "# Choose a cutoff value and create a list of classifications to be replaced\n",
    "# use the variable name `classifications_to_replace`\n",
    "classifications_to_replace = list(classif_count.loc[classif_count<500].index)"
   ]
  },
  {
   "cell_type": "code",
   "execution_count": 12,
   "metadata": {},
   "outputs": [
    {
     "data": {
      "text/plain": [
       "C1000    17326\n",
       "C2000     6074\n",
       "C1200     4837\n",
       "C3000     1918\n",
       "C2100     1883\n",
       "Other     1484\n",
       "C7000      777\n",
       "Name: CLASSIFICATION, dtype: int64"
      ]
     },
     "execution_count": 12,
     "metadata": {},
     "output_type": "execute_result"
    }
   ],
   "source": [
    "# Replace in dataframe\n",
    "for cls in classifications_to_replace:\n",
    "    application_df['CLASSIFICATION'] = application_df['CLASSIFICATION'].replace(cls,\"Other\")\n",
    "    \n",
    "# Check to make sure binning was successful\n",
    "application_df['CLASSIFICATION'].value_counts()"
   ]
  },
  {
   "cell_type": "code",
   "execution_count": 13,
   "metadata": {},
   "outputs": [
    {
     "data": {
      "text/html": [
       "<div>\n",
       "<style scoped>\n",
       "    .dataframe tbody tr th:only-of-type {\n",
       "        vertical-align: middle;\n",
       "    }\n",
       "\n",
       "    .dataframe tbody tr th {\n",
       "        vertical-align: top;\n",
       "    }\n",
       "\n",
       "    .dataframe thead th {\n",
       "        text-align: right;\n",
       "    }\n",
       "</style>\n",
       "<table border=\"1\" class=\"dataframe\">\n",
       "  <thead>\n",
       "    <tr style=\"text-align: right;\">\n",
       "      <th></th>\n",
       "      <th>STATUS</th>\n",
       "      <th>ASK_AMT</th>\n",
       "      <th>IS_SUCCESSFUL</th>\n",
       "      <th>APPLICATION_TYPE_Other</th>\n",
       "      <th>APPLICATION_TYPE_T10</th>\n",
       "      <th>APPLICATION_TYPE_T19</th>\n",
       "      <th>APPLICATION_TYPE_T3</th>\n",
       "      <th>APPLICATION_TYPE_T4</th>\n",
       "      <th>APPLICATION_TYPE_T5</th>\n",
       "      <th>APPLICATION_TYPE_T6</th>\n",
       "      <th>...</th>\n",
       "      <th>INCOME_AMT_1-9999</th>\n",
       "      <th>INCOME_AMT_10000-24999</th>\n",
       "      <th>INCOME_AMT_100000-499999</th>\n",
       "      <th>INCOME_AMT_10M-50M</th>\n",
       "      <th>INCOME_AMT_1M-5M</th>\n",
       "      <th>INCOME_AMT_25000-99999</th>\n",
       "      <th>INCOME_AMT_50M+</th>\n",
       "      <th>INCOME_AMT_5M-10M</th>\n",
       "      <th>SPECIAL_CONSIDERATIONS_N</th>\n",
       "      <th>SPECIAL_CONSIDERATIONS_Y</th>\n",
       "    </tr>\n",
       "  </thead>\n",
       "  <tbody>\n",
       "    <tr>\n",
       "      <th>0</th>\n",
       "      <td>1</td>\n",
       "      <td>5000</td>\n",
       "      <td>1</td>\n",
       "      <td>0</td>\n",
       "      <td>1</td>\n",
       "      <td>0</td>\n",
       "      <td>0</td>\n",
       "      <td>0</td>\n",
       "      <td>0</td>\n",
       "      <td>0</td>\n",
       "      <td>...</td>\n",
       "      <td>0</td>\n",
       "      <td>0</td>\n",
       "      <td>0</td>\n",
       "      <td>0</td>\n",
       "      <td>0</td>\n",
       "      <td>0</td>\n",
       "      <td>0</td>\n",
       "      <td>0</td>\n",
       "      <td>1</td>\n",
       "      <td>0</td>\n",
       "    </tr>\n",
       "    <tr>\n",
       "      <th>1</th>\n",
       "      <td>1</td>\n",
       "      <td>108590</td>\n",
       "      <td>1</td>\n",
       "      <td>0</td>\n",
       "      <td>0</td>\n",
       "      <td>0</td>\n",
       "      <td>1</td>\n",
       "      <td>0</td>\n",
       "      <td>0</td>\n",
       "      <td>0</td>\n",
       "      <td>...</td>\n",
       "      <td>1</td>\n",
       "      <td>0</td>\n",
       "      <td>0</td>\n",
       "      <td>0</td>\n",
       "      <td>0</td>\n",
       "      <td>0</td>\n",
       "      <td>0</td>\n",
       "      <td>0</td>\n",
       "      <td>1</td>\n",
       "      <td>0</td>\n",
       "    </tr>\n",
       "    <tr>\n",
       "      <th>2</th>\n",
       "      <td>1</td>\n",
       "      <td>5000</td>\n",
       "      <td>0</td>\n",
       "      <td>0</td>\n",
       "      <td>0</td>\n",
       "      <td>0</td>\n",
       "      <td>0</td>\n",
       "      <td>0</td>\n",
       "      <td>1</td>\n",
       "      <td>0</td>\n",
       "      <td>...</td>\n",
       "      <td>0</td>\n",
       "      <td>0</td>\n",
       "      <td>0</td>\n",
       "      <td>0</td>\n",
       "      <td>0</td>\n",
       "      <td>0</td>\n",
       "      <td>0</td>\n",
       "      <td>0</td>\n",
       "      <td>1</td>\n",
       "      <td>0</td>\n",
       "    </tr>\n",
       "    <tr>\n",
       "      <th>3</th>\n",
       "      <td>1</td>\n",
       "      <td>6692</td>\n",
       "      <td>1</td>\n",
       "      <td>0</td>\n",
       "      <td>0</td>\n",
       "      <td>0</td>\n",
       "      <td>1</td>\n",
       "      <td>0</td>\n",
       "      <td>0</td>\n",
       "      <td>0</td>\n",
       "      <td>...</td>\n",
       "      <td>0</td>\n",
       "      <td>1</td>\n",
       "      <td>0</td>\n",
       "      <td>0</td>\n",
       "      <td>0</td>\n",
       "      <td>0</td>\n",
       "      <td>0</td>\n",
       "      <td>0</td>\n",
       "      <td>1</td>\n",
       "      <td>0</td>\n",
       "    </tr>\n",
       "    <tr>\n",
       "      <th>4</th>\n",
       "      <td>1</td>\n",
       "      <td>142590</td>\n",
       "      <td>1</td>\n",
       "      <td>0</td>\n",
       "      <td>0</td>\n",
       "      <td>0</td>\n",
       "      <td>1</td>\n",
       "      <td>0</td>\n",
       "      <td>0</td>\n",
       "      <td>0</td>\n",
       "      <td>...</td>\n",
       "      <td>0</td>\n",
       "      <td>0</td>\n",
       "      <td>1</td>\n",
       "      <td>0</td>\n",
       "      <td>0</td>\n",
       "      <td>0</td>\n",
       "      <td>0</td>\n",
       "      <td>0</td>\n",
       "      <td>1</td>\n",
       "      <td>0</td>\n",
       "    </tr>\n",
       "  </tbody>\n",
       "</table>\n",
       "<p>5 rows × 45 columns</p>\n",
       "</div>"
      ],
      "text/plain": [
       "   STATUS  ASK_AMT  IS_SUCCESSFUL  APPLICATION_TYPE_Other  \\\n",
       "0       1     5000              1                       0   \n",
       "1       1   108590              1                       0   \n",
       "2       1     5000              0                       0   \n",
       "3       1     6692              1                       0   \n",
       "4       1   142590              1                       0   \n",
       "\n",
       "   APPLICATION_TYPE_T10  APPLICATION_TYPE_T19  APPLICATION_TYPE_T3  \\\n",
       "0                     1                     0                    0   \n",
       "1                     0                     0                    1   \n",
       "2                     0                     0                    0   \n",
       "3                     0                     0                    1   \n",
       "4                     0                     0                    1   \n",
       "\n",
       "   APPLICATION_TYPE_T4  APPLICATION_TYPE_T5  APPLICATION_TYPE_T6  ...  \\\n",
       "0                    0                    0                    0  ...   \n",
       "1                    0                    0                    0  ...   \n",
       "2                    0                    1                    0  ...   \n",
       "3                    0                    0                    0  ...   \n",
       "4                    0                    0                    0  ...   \n",
       "\n",
       "   INCOME_AMT_1-9999  INCOME_AMT_10000-24999  INCOME_AMT_100000-499999  \\\n",
       "0                  0                       0                         0   \n",
       "1                  1                       0                         0   \n",
       "2                  0                       0                         0   \n",
       "3                  0                       1                         0   \n",
       "4                  0                       0                         1   \n",
       "\n",
       "   INCOME_AMT_10M-50M  INCOME_AMT_1M-5M  INCOME_AMT_25000-99999  \\\n",
       "0                   0                 0                       0   \n",
       "1                   0                 0                       0   \n",
       "2                   0                 0                       0   \n",
       "3                   0                 0                       0   \n",
       "4                   0                 0                       0   \n",
       "\n",
       "   INCOME_AMT_50M+  INCOME_AMT_5M-10M  SPECIAL_CONSIDERATIONS_N  \\\n",
       "0                0                  0                         1   \n",
       "1                0                  0                         1   \n",
       "2                0                  0                         1   \n",
       "3                0                  0                         1   \n",
       "4                0                  0                         1   \n",
       "\n",
       "   SPECIAL_CONSIDERATIONS_Y  \n",
       "0                         0  \n",
       "1                         0  \n",
       "2                         0  \n",
       "3                         0  \n",
       "4                         0  \n",
       "\n",
       "[5 rows x 45 columns]"
      ]
     },
     "execution_count": 13,
     "metadata": {},
     "output_type": "execute_result"
    }
   ],
   "source": [
    "# Convert categorical data to numeric with `pd.get_dummies`\n",
    "app_to_numeric = pd.get_dummies(application_df)\n",
    "app_to_numeric.head()"
   ]
  },
  {
   "cell_type": "code",
   "execution_count": 14,
   "metadata": {},
   "outputs": [
    {
     "data": {
      "text/html": [
       "<div>\n",
       "<style scoped>\n",
       "    .dataframe tbody tr th:only-of-type {\n",
       "        vertical-align: middle;\n",
       "    }\n",
       "\n",
       "    .dataframe tbody tr th {\n",
       "        vertical-align: top;\n",
       "    }\n",
       "\n",
       "    .dataframe thead th {\n",
       "        text-align: right;\n",
       "    }\n",
       "</style>\n",
       "<table border=\"1\" class=\"dataframe\">\n",
       "  <thead>\n",
       "    <tr style=\"text-align: right;\">\n",
       "      <th></th>\n",
       "      <th>STATUS</th>\n",
       "      <th>ASK_AMT</th>\n",
       "      <th>IS_SUCCESSFUL</th>\n",
       "      <th>APPLICATION_TYPE_Other</th>\n",
       "      <th>APPLICATION_TYPE_T10</th>\n",
       "      <th>APPLICATION_TYPE_T19</th>\n",
       "      <th>APPLICATION_TYPE_T3</th>\n",
       "      <th>APPLICATION_TYPE_T4</th>\n",
       "      <th>APPLICATION_TYPE_T5</th>\n",
       "      <th>APPLICATION_TYPE_T6</th>\n",
       "      <th>...</th>\n",
       "      <th>INCOME_AMT_1-9999</th>\n",
       "      <th>INCOME_AMT_10000-24999</th>\n",
       "      <th>INCOME_AMT_100000-499999</th>\n",
       "      <th>INCOME_AMT_10M-50M</th>\n",
       "      <th>INCOME_AMT_1M-5M</th>\n",
       "      <th>INCOME_AMT_25000-99999</th>\n",
       "      <th>INCOME_AMT_50M+</th>\n",
       "      <th>INCOME_AMT_5M-10M</th>\n",
       "      <th>SPECIAL_CONSIDERATIONS_N</th>\n",
       "      <th>SPECIAL_CONSIDERATIONS_Y</th>\n",
       "    </tr>\n",
       "  </thead>\n",
       "  <tbody>\n",
       "    <tr>\n",
       "      <th>count</th>\n",
       "      <td>34299.000000</td>\n",
       "      <td>3.429900e+04</td>\n",
       "      <td>34299.000000</td>\n",
       "      <td>34299.000000</td>\n",
       "      <td>34299.000000</td>\n",
       "      <td>34299.000000</td>\n",
       "      <td>34299.000000</td>\n",
       "      <td>34299.000000</td>\n",
       "      <td>34299.000000</td>\n",
       "      <td>34299.000000</td>\n",
       "      <td>...</td>\n",
       "      <td>34299.000000</td>\n",
       "      <td>34299.000000</td>\n",
       "      <td>34299.000000</td>\n",
       "      <td>34299.000000</td>\n",
       "      <td>34299.000000</td>\n",
       "      <td>34299.000000</td>\n",
       "      <td>34299.000000</td>\n",
       "      <td>34299.000000</td>\n",
       "      <td>34299.000000</td>\n",
       "      <td>34299.000000</td>\n",
       "    </tr>\n",
       "    <tr>\n",
       "      <th>mean</th>\n",
       "      <td>0.999854</td>\n",
       "      <td>2.769199e+06</td>\n",
       "      <td>0.532406</td>\n",
       "      <td>0.008047</td>\n",
       "      <td>0.015394</td>\n",
       "      <td>0.031050</td>\n",
       "      <td>0.788274</td>\n",
       "      <td>0.044958</td>\n",
       "      <td>0.034199</td>\n",
       "      <td>0.035453</td>\n",
       "      <td>...</td>\n",
       "      <td>0.021225</td>\n",
       "      <td>0.015831</td>\n",
       "      <td>0.098370</td>\n",
       "      <td>0.006997</td>\n",
       "      <td>0.027843</td>\n",
       "      <td>0.109245</td>\n",
       "      <td>0.004053</td>\n",
       "      <td>0.005394</td>\n",
       "      <td>0.999213</td>\n",
       "      <td>0.000787</td>\n",
       "    </tr>\n",
       "    <tr>\n",
       "      <th>std</th>\n",
       "      <td>0.012073</td>\n",
       "      <td>8.713045e+07</td>\n",
       "      <td>0.498956</td>\n",
       "      <td>0.089344</td>\n",
       "      <td>0.123116</td>\n",
       "      <td>0.173457</td>\n",
       "      <td>0.408538</td>\n",
       "      <td>0.207214</td>\n",
       "      <td>0.181743</td>\n",
       "      <td>0.184924</td>\n",
       "      <td>...</td>\n",
       "      <td>0.144136</td>\n",
       "      <td>0.124825</td>\n",
       "      <td>0.297819</td>\n",
       "      <td>0.083358</td>\n",
       "      <td>0.164526</td>\n",
       "      <td>0.311951</td>\n",
       "      <td>0.063532</td>\n",
       "      <td>0.073245</td>\n",
       "      <td>0.028046</td>\n",
       "      <td>0.028046</td>\n",
       "    </tr>\n",
       "    <tr>\n",
       "      <th>min</th>\n",
       "      <td>0.000000</td>\n",
       "      <td>5.000000e+03</td>\n",
       "      <td>0.000000</td>\n",
       "      <td>0.000000</td>\n",
       "      <td>0.000000</td>\n",
       "      <td>0.000000</td>\n",
       "      <td>0.000000</td>\n",
       "      <td>0.000000</td>\n",
       "      <td>0.000000</td>\n",
       "      <td>0.000000</td>\n",
       "      <td>...</td>\n",
       "      <td>0.000000</td>\n",
       "      <td>0.000000</td>\n",
       "      <td>0.000000</td>\n",
       "      <td>0.000000</td>\n",
       "      <td>0.000000</td>\n",
       "      <td>0.000000</td>\n",
       "      <td>0.000000</td>\n",
       "      <td>0.000000</td>\n",
       "      <td>0.000000</td>\n",
       "      <td>0.000000</td>\n",
       "    </tr>\n",
       "    <tr>\n",
       "      <th>25%</th>\n",
       "      <td>1.000000</td>\n",
       "      <td>5.000000e+03</td>\n",
       "      <td>0.000000</td>\n",
       "      <td>0.000000</td>\n",
       "      <td>0.000000</td>\n",
       "      <td>0.000000</td>\n",
       "      <td>1.000000</td>\n",
       "      <td>0.000000</td>\n",
       "      <td>0.000000</td>\n",
       "      <td>0.000000</td>\n",
       "      <td>...</td>\n",
       "      <td>0.000000</td>\n",
       "      <td>0.000000</td>\n",
       "      <td>0.000000</td>\n",
       "      <td>0.000000</td>\n",
       "      <td>0.000000</td>\n",
       "      <td>0.000000</td>\n",
       "      <td>0.000000</td>\n",
       "      <td>0.000000</td>\n",
       "      <td>1.000000</td>\n",
       "      <td>0.000000</td>\n",
       "    </tr>\n",
       "    <tr>\n",
       "      <th>50%</th>\n",
       "      <td>1.000000</td>\n",
       "      <td>5.000000e+03</td>\n",
       "      <td>1.000000</td>\n",
       "      <td>0.000000</td>\n",
       "      <td>0.000000</td>\n",
       "      <td>0.000000</td>\n",
       "      <td>1.000000</td>\n",
       "      <td>0.000000</td>\n",
       "      <td>0.000000</td>\n",
       "      <td>0.000000</td>\n",
       "      <td>...</td>\n",
       "      <td>0.000000</td>\n",
       "      <td>0.000000</td>\n",
       "      <td>0.000000</td>\n",
       "      <td>0.000000</td>\n",
       "      <td>0.000000</td>\n",
       "      <td>0.000000</td>\n",
       "      <td>0.000000</td>\n",
       "      <td>0.000000</td>\n",
       "      <td>1.000000</td>\n",
       "      <td>0.000000</td>\n",
       "    </tr>\n",
       "    <tr>\n",
       "      <th>75%</th>\n",
       "      <td>1.000000</td>\n",
       "      <td>7.742000e+03</td>\n",
       "      <td>1.000000</td>\n",
       "      <td>0.000000</td>\n",
       "      <td>0.000000</td>\n",
       "      <td>0.000000</td>\n",
       "      <td>1.000000</td>\n",
       "      <td>0.000000</td>\n",
       "      <td>0.000000</td>\n",
       "      <td>0.000000</td>\n",
       "      <td>...</td>\n",
       "      <td>0.000000</td>\n",
       "      <td>0.000000</td>\n",
       "      <td>0.000000</td>\n",
       "      <td>0.000000</td>\n",
       "      <td>0.000000</td>\n",
       "      <td>0.000000</td>\n",
       "      <td>0.000000</td>\n",
       "      <td>0.000000</td>\n",
       "      <td>1.000000</td>\n",
       "      <td>0.000000</td>\n",
       "    </tr>\n",
       "    <tr>\n",
       "      <th>max</th>\n",
       "      <td>1.000000</td>\n",
       "      <td>8.597806e+09</td>\n",
       "      <td>1.000000</td>\n",
       "      <td>1.000000</td>\n",
       "      <td>1.000000</td>\n",
       "      <td>1.000000</td>\n",
       "      <td>1.000000</td>\n",
       "      <td>1.000000</td>\n",
       "      <td>1.000000</td>\n",
       "      <td>1.000000</td>\n",
       "      <td>...</td>\n",
       "      <td>1.000000</td>\n",
       "      <td>1.000000</td>\n",
       "      <td>1.000000</td>\n",
       "      <td>1.000000</td>\n",
       "      <td>1.000000</td>\n",
       "      <td>1.000000</td>\n",
       "      <td>1.000000</td>\n",
       "      <td>1.000000</td>\n",
       "      <td>1.000000</td>\n",
       "      <td>1.000000</td>\n",
       "    </tr>\n",
       "  </tbody>\n",
       "</table>\n",
       "<p>8 rows × 45 columns</p>\n",
       "</div>"
      ],
      "text/plain": [
       "             STATUS       ASK_AMT  IS_SUCCESSFUL  APPLICATION_TYPE_Other  \\\n",
       "count  34299.000000  3.429900e+04   34299.000000            34299.000000   \n",
       "mean       0.999854  2.769199e+06       0.532406                0.008047   \n",
       "std        0.012073  8.713045e+07       0.498956                0.089344   \n",
       "min        0.000000  5.000000e+03       0.000000                0.000000   \n",
       "25%        1.000000  5.000000e+03       0.000000                0.000000   \n",
       "50%        1.000000  5.000000e+03       1.000000                0.000000   \n",
       "75%        1.000000  7.742000e+03       1.000000                0.000000   \n",
       "max        1.000000  8.597806e+09       1.000000                1.000000   \n",
       "\n",
       "       APPLICATION_TYPE_T10  APPLICATION_TYPE_T19  APPLICATION_TYPE_T3  \\\n",
       "count          34299.000000          34299.000000         34299.000000   \n",
       "mean               0.015394              0.031050             0.788274   \n",
       "std                0.123116              0.173457             0.408538   \n",
       "min                0.000000              0.000000             0.000000   \n",
       "25%                0.000000              0.000000             1.000000   \n",
       "50%                0.000000              0.000000             1.000000   \n",
       "75%                0.000000              0.000000             1.000000   \n",
       "max                1.000000              1.000000             1.000000   \n",
       "\n",
       "       APPLICATION_TYPE_T4  APPLICATION_TYPE_T5  APPLICATION_TYPE_T6  ...  \\\n",
       "count         34299.000000         34299.000000         34299.000000  ...   \n",
       "mean              0.044958             0.034199             0.035453  ...   \n",
       "std               0.207214             0.181743             0.184924  ...   \n",
       "min               0.000000             0.000000             0.000000  ...   \n",
       "25%               0.000000             0.000000             0.000000  ...   \n",
       "50%               0.000000             0.000000             0.000000  ...   \n",
       "75%               0.000000             0.000000             0.000000  ...   \n",
       "max               1.000000             1.000000             1.000000  ...   \n",
       "\n",
       "       INCOME_AMT_1-9999  INCOME_AMT_10000-24999  INCOME_AMT_100000-499999  \\\n",
       "count       34299.000000            34299.000000              34299.000000   \n",
       "mean            0.021225                0.015831                  0.098370   \n",
       "std             0.144136                0.124825                  0.297819   \n",
       "min             0.000000                0.000000                  0.000000   \n",
       "25%             0.000000                0.000000                  0.000000   \n",
       "50%             0.000000                0.000000                  0.000000   \n",
       "75%             0.000000                0.000000                  0.000000   \n",
       "max             1.000000                1.000000                  1.000000   \n",
       "\n",
       "       INCOME_AMT_10M-50M  INCOME_AMT_1M-5M  INCOME_AMT_25000-99999  \\\n",
       "count        34299.000000      34299.000000            34299.000000   \n",
       "mean             0.006997          0.027843                0.109245   \n",
       "std              0.083358          0.164526                0.311951   \n",
       "min              0.000000          0.000000                0.000000   \n",
       "25%              0.000000          0.000000                0.000000   \n",
       "50%              0.000000          0.000000                0.000000   \n",
       "75%              0.000000          0.000000                0.000000   \n",
       "max              1.000000          1.000000                1.000000   \n",
       "\n",
       "       INCOME_AMT_50M+  INCOME_AMT_5M-10M  SPECIAL_CONSIDERATIONS_N  \\\n",
       "count     34299.000000       34299.000000              34299.000000   \n",
       "mean          0.004053           0.005394                  0.999213   \n",
       "std           0.063532           0.073245                  0.028046   \n",
       "min           0.000000           0.000000                  0.000000   \n",
       "25%           0.000000           0.000000                  1.000000   \n",
       "50%           0.000000           0.000000                  1.000000   \n",
       "75%           0.000000           0.000000                  1.000000   \n",
       "max           1.000000           1.000000                  1.000000   \n",
       "\n",
       "       SPECIAL_CONSIDERATIONS_Y  \n",
       "count              34299.000000  \n",
       "mean                   0.000787  \n",
       "std                    0.028046  \n",
       "min                    0.000000  \n",
       "25%                    0.000000  \n",
       "50%                    0.000000  \n",
       "75%                    0.000000  \n",
       "max                    1.000000  \n",
       "\n",
       "[8 rows x 45 columns]"
      ]
     },
     "execution_count": 14,
     "metadata": {},
     "output_type": "execute_result"
    }
   ],
   "source": [
    "app_to_numeric.describe()"
   ]
  },
  {
   "cell_type": "code",
   "execution_count": 15,
   "metadata": {},
   "outputs": [
    {
     "data": {
      "text/plain": [
       "1    18261\n",
       "0    16038\n",
       "Name: IS_SUCCESSFUL, dtype: int64"
      ]
     },
     "execution_count": 15,
     "metadata": {},
     "output_type": "execute_result"
    }
   ],
   "source": [
    "app_to_numeric[\"IS_SUCCESSFUL\"].value_counts()"
   ]
  },
  {
   "cell_type": "code",
   "execution_count": 16,
   "metadata": {},
   "outputs": [],
   "source": [
    "# Split our preprocessed data into our features and target arrays\n",
    "X = app_to_numeric.drop(columns=\"IS_SUCCESSFUL\").values\n",
    "y = app_to_numeric[\"IS_SUCCESSFUL\"].values"
   ]
  },
  {
   "cell_type": "code",
   "execution_count": 17,
   "metadata": {},
   "outputs": [],
   "source": [
    "# Split the preprocessed data into a training and testing dataset\n",
    "X_train, X_test, y_train, y_test = train_test_split(X,y,random_state=31,stratify=y)"
   ]
  },
  {
   "cell_type": "code",
   "execution_count": 18,
   "metadata": {},
   "outputs": [],
   "source": [
    "# Create a StandardScaler instances\n",
    "scaler = StandardScaler()\n",
    "\n",
    "# Fit the StandardScaler\n",
    "X_scaler = scaler.fit(X_train)\n",
    "\n",
    "# Scale the data\n",
    "X_train_scaled = X_scaler.transform(X_train)\n",
    "X_test_scaled = X_scaler.transform(X_test)"
   ]
  },
  {
   "cell_type": "code",
   "execution_count": 19,
   "metadata": {},
   "outputs": [
    {
     "data": {
      "text/plain": [
       "(8575, 44)"
      ]
     },
     "execution_count": 19,
     "metadata": {},
     "output_type": "execute_result"
    }
   ],
   "source": [
    "# shape\n",
    "X_test_scaled.shape"
   ]
  },
  {
   "cell_type": "code",
   "execution_count": 20,
   "metadata": {},
   "outputs": [
    {
     "data": {
      "text/plain": [
       "(25724, 44)"
      ]
     },
     "execution_count": 20,
     "metadata": {},
     "output_type": "execute_result"
    }
   ],
   "source": [
    "X_train_scaled.shape"
   ]
  },
  {
   "cell_type": "markdown",
   "metadata": {},
   "source": [
    "## Compile, Train and Evaluate the Model"
   ]
  },
  {
   "cell_type": "code",
   "execution_count": 21,
   "metadata": {},
   "outputs": [],
   "source": [
    "# Define the model - deep neural net, i.e., the number of input features and hidden nodes for each layer.\n",
    "input4 = X_train_scaled.shape[1]\n",
    "node1 = 600\n",
    "node2 = 300\n",
    "node3 = 300\n",
    "node4 = 100"
   ]
  },
  {
   "cell_type": "code",
   "execution_count": 22,
   "metadata": {},
   "outputs": [
    {
     "name": "stdout",
     "output_type": "stream",
     "text": [
      "Model: \"sequential\"\n",
      "_________________________________________________________________\n",
      " Layer (type)                Output Shape              Param #   \n",
      "=================================================================\n",
      " dense (Dense)               (None, 600)               27000     \n",
      "                                                                 \n",
      " dense_1 (Dense)             (None, 300)               180300    \n",
      "                                                                 \n",
      " dense_2 (Dense)             (None, 300)               90300     \n",
      "                                                                 \n",
      " dense_3 (Dense)             (None, 100)               30100     \n",
      "                                                                 \n",
      " dense_4 (Dense)             (None, 1)                 101       \n",
      "                                                                 \n",
      "=================================================================\n",
      "Total params: 327,801\n",
      "Trainable params: 327,801\n",
      "Non-trainable params: 0\n",
      "_________________________________________________________________\n"
     ]
    }
   ],
   "source": [
    "\n",
    "nn6 = tf.keras.models.Sequential()\n",
    "\n",
    "# First hidden layer\n",
    "nn6.add(tf.keras.layers.Dense(units=node1, activation='relu', input_dim=input4))\n",
    "\n",
    "# Second hidden layer\n",
    "nn6.add(tf.keras.layers.Dense(units=node2, activation='relu'))\n",
    "\n",
    "# Third hidden layer\n",
    "nn6.add(tf.keras.layers.Dense(units=node3, activation='relu'))\n",
    "\n",
    "# 4° hidden layer\n",
    "nn6.add(tf.keras.layers.Dense(units=node4, activation='relu'))\n",
    "\n",
    "# Output layer\n",
    "nn6.add(tf.keras.layers.Dense(units=1, activation='sigmoid'))\n",
    "\n",
    "# Check the structure of the model\n",
    "nn6.summary()"
   ]
  },
  {
   "cell_type": "code",
   "execution_count": 23,
   "metadata": {},
   "outputs": [],
   "source": [
    "# Compile the model\n",
    "nn6.compile(loss=\"binary_crossentropy\", optimizer=\"adam\", metrics=[\"accuracy\"])"
   ]
  },
  {
   "cell_type": "code",
   "execution_count": 24,
   "metadata": {},
   "outputs": [
    {
     "name": "stdout",
     "output_type": "stream",
     "text": [
      "Epoch 1/100\n",
      "804/804 [==============================] - 8s 8ms/step - loss: 0.5691 - accuracy: 0.7215\n",
      "Epoch 2/100\n",
      "804/804 [==============================] - 6s 8ms/step - loss: 0.5563 - accuracy: 0.7299\n",
      "Epoch 3/100\n",
      "804/804 [==============================] - 7s 8ms/step - loss: 0.5537 - accuracy: 0.7308\n",
      "Epoch 4/100\n",
      "804/804 [==============================] - 6s 8ms/step - loss: 0.5519 - accuracy: 0.7315\n",
      "Epoch 5/100\n",
      "804/804 [==============================] - 7s 8ms/step - loss: 0.5501 - accuracy: 0.7334\n",
      "Epoch 6/100\n",
      "804/804 [==============================] - 7s 8ms/step - loss: 0.5481 - accuracy: 0.7334\n",
      "Epoch 7/100\n",
      "804/804 [==============================] - 7s 9ms/step - loss: 0.5476 - accuracy: 0.7341\n",
      "Epoch 8/100\n",
      "804/804 [==============================] - 7s 8ms/step - loss: 0.5469 - accuracy: 0.7354\n",
      "Epoch 9/100\n",
      "804/804 [==============================] - 7s 8ms/step - loss: 0.5460 - accuracy: 0.7350\n",
      "Epoch 10/100\n",
      "804/804 [==============================] - 6s 8ms/step - loss: 0.5456 - accuracy: 0.7351\n",
      "Epoch 11/100\n",
      "804/804 [==============================] - 7s 8ms/step - loss: 0.5445 - accuracy: 0.7343\n",
      "Epoch 12/100\n",
      "804/804 [==============================] - 7s 8ms/step - loss: 0.5447 - accuracy: 0.7357\n",
      "Epoch 13/100\n",
      "804/804 [==============================] - 6s 8ms/step - loss: 0.5431 - accuracy: 0.7363\n",
      "Epoch 14/100\n",
      "804/804 [==============================] - 7s 8ms/step - loss: 0.5429 - accuracy: 0.7368\n",
      "Epoch 15/100\n",
      "804/804 [==============================] - 7s 8ms/step - loss: 0.5418 - accuracy: 0.7370\n",
      "Epoch 16/100\n",
      "804/804 [==============================] - 7s 8ms/step - loss: 0.5430 - accuracy: 0.7368\n",
      "Epoch 17/100\n",
      "804/804 [==============================] - 7s 8ms/step - loss: 0.5426 - accuracy: 0.7372\n",
      "Epoch 18/100\n",
      "804/804 [==============================] - 7s 8ms/step - loss: 0.5415 - accuracy: 0.7369\n",
      "Epoch 19/100\n",
      "804/804 [==============================] - 7s 8ms/step - loss: 0.5414 - accuracy: 0.7374\n",
      "Epoch 20/100\n",
      "804/804 [==============================] - 7s 8ms/step - loss: 0.5408 - accuracy: 0.7373\n",
      "Epoch 21/100\n",
      "804/804 [==============================] - 7s 8ms/step - loss: 0.5410 - accuracy: 0.7367\n",
      "Epoch 22/100\n",
      "804/804 [==============================] - 7s 8ms/step - loss: 0.5404 - accuracy: 0.7371\n",
      "Epoch 23/100\n",
      "804/804 [==============================] - 7s 8ms/step - loss: 0.5406 - accuracy: 0.7376\n",
      "Epoch 24/100\n",
      "804/804 [==============================] - 7s 9ms/step - loss: 0.5411 - accuracy: 0.7377\n",
      "Epoch 25/100\n",
      "804/804 [==============================] - 7s 9ms/step - loss: 0.5405 - accuracy: 0.7381\n",
      "Epoch 26/100\n",
      "804/804 [==============================] - 7s 8ms/step - loss: 0.5395 - accuracy: 0.7383\n",
      "Epoch 27/100\n",
      "804/804 [==============================] - 7s 8ms/step - loss: 0.5389 - accuracy: 0.7379\n",
      "Epoch 28/100\n",
      "804/804 [==============================] - 7s 8ms/step - loss: 0.5382 - accuracy: 0.7381\n",
      "Epoch 29/100\n",
      "804/804 [==============================] - 6s 8ms/step - loss: 0.5384 - accuracy: 0.7381\n",
      "Epoch 30/100\n",
      "804/804 [==============================] - 6s 8ms/step - loss: 0.5392 - accuracy: 0.7383\n",
      "Epoch 31/100\n",
      "804/804 [==============================] - 6s 8ms/step - loss: 0.5379 - accuracy: 0.7387\n",
      "Epoch 32/100\n",
      "804/804 [==============================] - 6s 8ms/step - loss: 0.5377 - accuracy: 0.7388\n",
      "Epoch 33/100\n",
      "804/804 [==============================] - 6s 8ms/step - loss: 0.5376 - accuracy: 0.7383\n",
      "Epoch 34/100\n",
      "804/804 [==============================] - 7s 8ms/step - loss: 0.5407 - accuracy: 0.7387\n",
      "Epoch 35/100\n",
      "804/804 [==============================] - 6s 8ms/step - loss: 0.5371 - accuracy: 0.7396\n",
      "Epoch 36/100\n",
      "804/804 [==============================] - 7s 8ms/step - loss: 0.5365 - accuracy: 0.7382\n",
      "Epoch 37/100\n",
      "804/804 [==============================] - 6s 8ms/step - loss: 0.5367 - accuracy: 0.7401\n",
      "Epoch 38/100\n",
      "804/804 [==============================] - 6s 8ms/step - loss: 0.5365 - accuracy: 0.7393\n",
      "Epoch 39/100\n",
      "804/804 [==============================] - 7s 8ms/step - loss: 0.5369 - accuracy: 0.7393\n",
      "Epoch 40/100\n",
      "804/804 [==============================] - 6s 8ms/step - loss: 0.5369 - accuracy: 0.7399\n",
      "Epoch 41/100\n",
      "804/804 [==============================] - 7s 8ms/step - loss: 0.5371 - accuracy: 0.7394\n",
      "Epoch 42/100\n",
      "804/804 [==============================] - 6s 8ms/step - loss: 0.5363 - accuracy: 0.7393\n",
      "Epoch 43/100\n",
      "804/804 [==============================] - 7s 8ms/step - loss: 0.5356 - accuracy: 0.7394\n",
      "Epoch 44/100\n",
      "804/804 [==============================] - 7s 8ms/step - loss: 0.5370 - accuracy: 0.7401\n",
      "Epoch 45/100\n",
      "804/804 [==============================] - 6s 8ms/step - loss: 0.5359 - accuracy: 0.7390\n",
      "Epoch 46/100\n",
      "804/804 [==============================] - 6s 8ms/step - loss: 0.5357 - accuracy: 0.7395\n",
      "Epoch 47/100\n",
      "804/804 [==============================] - 7s 8ms/step - loss: 0.5358 - accuracy: 0.7402\n",
      "Epoch 48/100\n",
      "804/804 [==============================] - 6s 8ms/step - loss: 0.5350 - accuracy: 0.7397\n",
      "Epoch 49/100\n",
      "804/804 [==============================] - 6s 8ms/step - loss: 0.5345 - accuracy: 0.7404\n",
      "Epoch 50/100\n",
      "804/804 [==============================] - 6s 8ms/step - loss: 0.5348 - accuracy: 0.7392\n",
      "Epoch 51/100\n",
      "804/804 [==============================] - 6s 8ms/step - loss: 0.5344 - accuracy: 0.7406\n",
      "Epoch 52/100\n",
      "804/804 [==============================] - 7s 8ms/step - loss: 0.5368 - accuracy: 0.7396\n",
      "Epoch 53/100\n",
      "804/804 [==============================] - 7s 8ms/step - loss: 0.5375 - accuracy: 0.7403\n",
      "Epoch 54/100\n",
      "804/804 [==============================] - 6s 8ms/step - loss: 0.5365 - accuracy: 0.7397\n",
      "Epoch 55/100\n",
      "804/804 [==============================] - 7s 8ms/step - loss: 0.5347 - accuracy: 0.7407\n",
      "Epoch 56/100\n",
      "804/804 [==============================] - 7s 8ms/step - loss: 0.5350 - accuracy: 0.7402\n",
      "Epoch 57/100\n",
      "804/804 [==============================] - 7s 8ms/step - loss: 0.5345 - accuracy: 0.7403\n",
      "Epoch 58/100\n",
      "804/804 [==============================] - 7s 8ms/step - loss: 0.5344 - accuracy: 0.7402\n",
      "Epoch 59/100\n",
      "804/804 [==============================] - 7s 8ms/step - loss: 0.5351 - accuracy: 0.7405\n",
      "Epoch 60/100\n",
      "804/804 [==============================] - 6s 8ms/step - loss: 0.5633 - accuracy: 0.7400\n",
      "Epoch 61/100\n",
      "804/804 [==============================] - 7s 8ms/step - loss: 0.5348 - accuracy: 0.7403\n",
      "Epoch 62/100\n",
      "804/804 [==============================] - 7s 9ms/step - loss: 0.5329 - accuracy: 0.7397\n",
      "Epoch 63/100\n",
      "804/804 [==============================] - 7s 8ms/step - loss: 0.5332 - accuracy: 0.7407\n",
      "Epoch 64/100\n",
      "804/804 [==============================] - 7s 9ms/step - loss: 0.5325 - accuracy: 0.7413\n",
      "Epoch 65/100\n",
      "804/804 [==============================] - 7s 9ms/step - loss: 0.5339 - accuracy: 0.7409\n",
      "Epoch 66/100\n",
      "804/804 [==============================] - 7s 9ms/step - loss: 0.5339 - accuracy: 0.7401\n",
      "Epoch 67/100\n",
      "804/804 [==============================] - 7s 8ms/step - loss: 0.5331 - accuracy: 0.7411\n",
      "Epoch 68/100\n",
      "804/804 [==============================] - 7s 9ms/step - loss: 0.5328 - accuracy: 0.7412\n",
      "Epoch 69/100\n",
      "804/804 [==============================] - 7s 9ms/step - loss: 0.5332 - accuracy: 0.7411\n",
      "Epoch 70/100\n",
      "804/804 [==============================] - 7s 9ms/step - loss: 0.5335 - accuracy: 0.7404\n",
      "Epoch 71/100\n",
      "804/804 [==============================] - 7s 9ms/step - loss: 0.5337 - accuracy: 0.7402\n",
      "Epoch 72/100\n",
      "804/804 [==============================] - 7s 9ms/step - loss: 0.5327 - accuracy: 0.7411\n",
      "Epoch 73/100\n",
      "804/804 [==============================] - 7s 9ms/step - loss: 0.5326 - accuracy: 0.7415\n",
      "Epoch 74/100\n",
      "804/804 [==============================] - 7s 9ms/step - loss: 0.5332 - accuracy: 0.7413\n",
      "Epoch 75/100\n",
      "804/804 [==============================] - 7s 9ms/step - loss: 0.5377 - accuracy: 0.7404\n",
      "Epoch 76/100\n",
      "804/804 [==============================] - 7s 9ms/step - loss: 0.5333 - accuracy: 0.7400\n",
      "Epoch 77/100\n",
      "804/804 [==============================] - 7s 9ms/step - loss: 0.5322 - accuracy: 0.7411\n",
      "Epoch 78/100\n",
      "804/804 [==============================] - 7s 9ms/step - loss: 0.5324 - accuracy: 0.7407\n",
      "Epoch 79/100\n",
      "804/804 [==============================] - 7s 9ms/step - loss: 0.5323 - accuracy: 0.7404\n",
      "Epoch 80/100\n",
      "804/804 [==============================] - 7s 9ms/step - loss: 0.5334 - accuracy: 0.7408\n",
      "Epoch 81/100\n",
      "804/804 [==============================] - 7s 9ms/step - loss: 0.5324 - accuracy: 0.7408\n",
      "Epoch 82/100\n",
      "804/804 [==============================] - 7s 9ms/step - loss: 0.5324 - accuracy: 0.7411\n",
      "Epoch 83/100\n",
      "804/804 [==============================] - 7s 9ms/step - loss: 0.5323 - accuracy: 0.7414\n",
      "Epoch 84/100\n",
      "804/804 [==============================] - 7s 9ms/step - loss: 0.5331 - accuracy: 0.7404\n",
      "Epoch 85/100\n",
      "804/804 [==============================] - 7s 8ms/step - loss: 0.5331 - accuracy: 0.7405\n",
      "Epoch 86/100\n",
      "804/804 [==============================] - 7s 9ms/step - loss: 0.5349 - accuracy: 0.7404\n",
      "Epoch 87/100\n",
      "804/804 [==============================] - 7s 9ms/step - loss: 0.5330 - accuracy: 0.7413\n",
      "Epoch 88/100\n",
      "804/804 [==============================] - 7s 9ms/step - loss: 0.5321 - accuracy: 0.7418\n",
      "Epoch 89/100\n",
      "804/804 [==============================] - 7s 8ms/step - loss: 0.5322 - accuracy: 0.7414\n",
      "Epoch 90/100\n",
      "804/804 [==============================] - 7s 8ms/step - loss: 0.5335 - accuracy: 0.7405\n",
      "Epoch 91/100\n",
      "804/804 [==============================] - 7s 9ms/step - loss: 0.5324 - accuracy: 0.7411\n",
      "Epoch 92/100\n",
      "804/804 [==============================] - 7s 8ms/step - loss: 0.5321 - accuracy: 0.7411\n",
      "Epoch 93/100\n",
      "804/804 [==============================] - 7s 8ms/step - loss: 0.5328 - accuracy: 0.7409\n",
      "Epoch 94/100\n",
      "804/804 [==============================] - 7s 8ms/step - loss: 0.5327 - accuracy: 0.7404\n",
      "Epoch 95/100\n",
      "804/804 [==============================] - 6s 8ms/step - loss: 0.5334 - accuracy: 0.7399\n",
      "Epoch 96/100\n",
      "804/804 [==============================] - 7s 9ms/step - loss: 0.5313 - accuracy: 0.7418\n",
      "Epoch 97/100\n",
      "804/804 [==============================] - 7s 9ms/step - loss: 0.5549 - accuracy: 0.7400\n",
      "Epoch 98/100\n",
      "804/804 [==============================] - 7s 8ms/step - loss: 0.5341 - accuracy: 0.7406\n",
      "Epoch 99/100\n",
      "804/804 [==============================] - 7s 8ms/step - loss: 0.5320 - accuracy: 0.7407\n",
      "Epoch 100/100\n",
      "804/804 [==============================] - 7s 8ms/step - loss: 0.5308 - accuracy: 0.7410\n"
     ]
    }
   ],
   "source": [
    "# Train the model\n",
    "fit_model_6 = nn6.fit(X_train_scaled, y_train, epochs=100)"
   ]
  },
  {
   "cell_type": "code",
   "execution_count": 25,
   "metadata": {},
   "outputs": [
    {
     "name": "stdout",
     "output_type": "stream",
     "text": [
      "268/268 - 1s - loss: 0.5988 - accuracy: 0.7272 - 1s/epoch - 5ms/step\n",
      "Loss: 0.5988332033157349, Accuracy: 0.7272303104400635\n"
     ]
    }
   ],
   "source": [
    "# Evaluate the model using the test data\n",
    "model_loss, model_accuracy = nn6.evaluate(X_test_scaled,y_test,verbose=2)\n",
    "print(f\"Loss: {model_loss}, Accuracy: {model_accuracy}\")"
   ]
  },
  {
   "cell_type": "code",
   "execution_count": 26,
   "metadata": {},
   "outputs": [],
   "source": [
    "# Create a DataFrame containing training history\n",
    "history_df = pd.DataFrame(fit_model_6.history)\n",
    "\n",
    "# Increase the index by 1 to match the number of epochs\n",
    "history_df.index += 1"
   ]
  },
  {
   "cell_type": "code",
   "execution_count": 27,
   "metadata": {},
   "outputs": [
    {
     "data": {
      "text/plain": [
       "<AxesSubplot:>"
      ]
     },
     "execution_count": 27,
     "metadata": {},
     "output_type": "execute_result"
    },
    {
     "data": {
      "image/png": "[encoded data removed]",
      "text/plain": [
       "<Figure size 432x288 with 1 Axes>"
      ]
     },
     "metadata": {
      "needs_background": "light"
     },
     "output_type": "display_data"
    }
   ],
   "source": [
    "# Plot the loss\n",
    "history_df.plot(y=\"loss\")"
   ]
  },
  {
   "cell_type": "code",
   "execution_count": 28,
   "metadata": {},
   "outputs": [
    {
     "data": {
      "text/plain": [
       "<AxesSubplot:>"
      ]
     },
     "execution_count": 28,
     "metadata": {},
     "output_type": "execute_result"
    },
    {
     "data": {
      "image/png": "[encoded data removed]",
      "text/plain": [
       "<Figure size 432x288 with 1 Axes>"
      ]
     },
     "metadata": {
      "needs_background": "light"
     },
     "output_type": "display_data"
    }
   ],
   "source": [
    "# Plot the accuracy\n",
    "history_df.plot(y=\"accuracy\")"
   ]
  },
  {
   "cell_type": "code",
   "execution_count": 29,
   "metadata": {},
   "outputs": [],
   "source": [
    "# Export our model to HDF5 file\n",
    "nn6.save(\"Exports/Result_Model6.h5\")"
   ]
  },
  {
   "cell_type": "markdown",
   "metadata": {},
   "source": [
    "### Result for model 6:\n",
    "#### Loss: 0.60, Accuracy: 0.73\n",
    "#### Very similar result than model 1, 2, 3, 4, 5 and 6"
   ]
  }
 ],
 "metadata": {
  "kernelspec": {
   "display_name": "Python 3.9.7 ('base')",
   "language": "python",
   "name": "python3"
  },
  "language_info": {
   "codemirror_mode": {
    "name": "ipython",
    "version": 3
   },
   "file_extension": ".py",
   "mimetype": "text/x-python",
   "name": "python",
   "nbconvert_exporter": "python",
   "pygments_lexer": "ipython3",
   "version": "3.9.7"
  },
  "vscode": {
   "interpreter": {
    "hash": "1d4b4d99b5e84493afab03ed593eb1d1bc23c15333c006dc20fe35c1b08d0cba"
   }
  }
 },
 "nbformat": 4,
 "nbformat_minor": 4
}
